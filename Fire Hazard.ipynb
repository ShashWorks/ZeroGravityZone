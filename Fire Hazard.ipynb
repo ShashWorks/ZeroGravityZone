{
 "cells": [
  {
   "cell_type": "code",
   "execution_count": 74,
   "metadata": {},
   "outputs": [],
   "source": [
    "import pandas as pd\n",
    "import numpy as np\n",
    "import matplotlib.pyplot as plt\n",
    "import seaborn as sns\n",
    "%matplotlib inline"
   ]
  },
  {
   "cell_type": "code",
   "execution_count": 75,
   "metadata": {},
   "outputs": [],
   "source": [
    "fire=pd.read_csv(\"fire.csv\")"
   ]
  },
  {
   "cell_type": "code",
   "execution_count": 88,
   "metadata": {},
   "outputs": [
    {
     "data": {
      "text/html": [
       "<div>\n",
       "<style scoped>\n",
       "    .dataframe tbody tr th:only-of-type {\n",
       "        vertical-align: middle;\n",
       "    }\n",
       "\n",
       "    .dataframe tbody tr th {\n",
       "        vertical-align: top;\n",
       "    }\n",
       "\n",
       "    .dataframe thead th {\n",
       "        text-align: right;\n",
       "    }\n",
       "</style>\n",
       "<table border=\"1\" class=\"dataframe\">\n",
       "  <thead>\n",
       "    <tr style=\"text-align: right;\">\n",
       "      <th></th>\n",
       "      <th>Latitude</th>\n",
       "      <th>Longitude</th>\n",
       "      <th>COTotalColumn</th>\n",
       "      <th>COMixingRatio surface</th>\n",
       "      <th>COMixingRatio 900hPa</th>\n",
       "      <th>COMixingRatio 800hPa</th>\n",
       "      <th>COMixingRatio 700hPa</th>\n",
       "      <th>COMixingRatio 600hPa</th>\n",
       "      <th>COMixingRatio 500hPa</th>\n",
       "      <th>COMixingRatio 400hPa</th>\n",
       "      <th>COMixingRatio 300hPa</th>\n",
       "      <th>COMixingRatio 200hPa</th>\n",
       "      <th>COMixingRatio 100hPa</th>\n",
       "      <th>Temperature</th>\n",
       "    </tr>\n",
       "  </thead>\n",
       "  <tbody>\n",
       "    <tr>\n",
       "      <th>0</th>\n",
       "      <td>9.03868</td>\n",
       "      <td>-20.8853</td>\n",
       "      <td>2.580000e+18</td>\n",
       "      <td>134.620</td>\n",
       "      <td>173.135</td>\n",
       "      <td>153.868</td>\n",
       "      <td>124.655</td>\n",
       "      <td>114.139</td>\n",
       "      <td>106.779</td>\n",
       "      <td>109.7300</td>\n",
       "      <td>122.0820</td>\n",
       "      <td>122.0620</td>\n",
       "      <td>53.1248</td>\n",
       "      <td>300.221</td>\n",
       "    </tr>\n",
       "    <tr>\n",
       "      <th>1</th>\n",
       "      <td>8.81834</td>\n",
       "      <td>-20.8535</td>\n",
       "      <td>2.650000e+18</td>\n",
       "      <td>139.292</td>\n",
       "      <td>183.707</td>\n",
       "      <td>164.003</td>\n",
       "      <td>131.822</td>\n",
       "      <td>120.366</td>\n",
       "      <td>110.927</td>\n",
       "      <td>110.9010</td>\n",
       "      <td>118.1920</td>\n",
       "      <td>115.0210</td>\n",
       "      <td>51.7430</td>\n",
       "      <td>300.686</td>\n",
       "    </tr>\n",
       "    <tr>\n",
       "      <th>2</th>\n",
       "      <td>8.59805</td>\n",
       "      <td>-20.8216</td>\n",
       "      <td>2.750000e+18</td>\n",
       "      <td>158.140</td>\n",
       "      <td>233.699</td>\n",
       "      <td>217.127</td>\n",
       "      <td>165.104</td>\n",
       "      <td>135.990</td>\n",
       "      <td>106.739</td>\n",
       "      <td>85.2269</td>\n",
       "      <td>71.4620</td>\n",
       "      <td>69.4771</td>\n",
       "      <td>42.9896</td>\n",
       "      <td>300.940</td>\n",
       "    </tr>\n",
       "    <tr>\n",
       "      <th>3</th>\n",
       "      <td>8.37733</td>\n",
       "      <td>-20.7898</td>\n",
       "      <td>2.720000e+18</td>\n",
       "      <td>148.004</td>\n",
       "      <td>196.613</td>\n",
       "      <td>175.510</td>\n",
       "      <td>138.600</td>\n",
       "      <td>125.555</td>\n",
       "      <td>113.432</td>\n",
       "      <td>110.0860</td>\n",
       "      <td>112.1170</td>\n",
       "      <td>106.2790</td>\n",
       "      <td>50.0490</td>\n",
       "      <td>301.036</td>\n",
       "    </tr>\n",
       "    <tr>\n",
       "      <th>4</th>\n",
       "      <td>8.99296</td>\n",
       "      <td>-21.3651</td>\n",
       "      <td>2.510000e+18</td>\n",
       "      <td>134.441</td>\n",
       "      <td>179.879</td>\n",
       "      <td>166.433</td>\n",
       "      <td>134.634</td>\n",
       "      <td>119.701</td>\n",
       "      <td>106.467</td>\n",
       "      <td>99.5474</td>\n",
       "      <td>96.0743</td>\n",
       "      <td>91.8761</td>\n",
       "      <td>47.7643</td>\n",
       "      <td>300.325</td>\n",
       "    </tr>\n",
       "  </tbody>\n",
       "</table>\n",
       "</div>"
      ],
      "text/plain": [
       "    Latitude   Longitude   COTotalColumn  COMixingRatio surface  \\\n",
       "0    9.03868    -20.8853    2.580000e+18                134.620   \n",
       "1    8.81834    -20.8535    2.650000e+18                139.292   \n",
       "2    8.59805    -20.8216    2.750000e+18                158.140   \n",
       "3    8.37733    -20.7898    2.720000e+18                148.004   \n",
       "4    8.99296    -21.3651    2.510000e+18                134.441   \n",
       "\n",
       "   COMixingRatio 900hPa  COMixingRatio 800hPa  COMixingRatio 700hPa  \\\n",
       "0               173.135               153.868               124.655   \n",
       "1               183.707               164.003               131.822   \n",
       "2               233.699               217.127               165.104   \n",
       "3               196.613               175.510               138.600   \n",
       "4               179.879               166.433               134.634   \n",
       "\n",
       "   COMixingRatio 600hPa   COMixingRatio 500hPa  COMixingRatio 400hPa  \\\n",
       "0               114.139                106.779              109.7300   \n",
       "1               120.366                110.927              110.9010   \n",
       "2               135.990                106.739               85.2269   \n",
       "3               125.555                113.432              110.0860   \n",
       "4               119.701                106.467               99.5474   \n",
       "\n",
       "   COMixingRatio 300hPa  COMixingRatio 200hPa  COMixingRatio 100hPa  \\\n",
       "0              122.0820              122.0620               53.1248   \n",
       "1              118.1920              115.0210               51.7430   \n",
       "2               71.4620               69.4771               42.9896   \n",
       "3              112.1170              106.2790               50.0490   \n",
       "4               96.0743               91.8761               47.7643   \n",
       "\n",
       "   Temperature   \n",
       "0       300.221  \n",
       "1       300.686  \n",
       "2       300.940  \n",
       "3       301.036  \n",
       "4       300.325  "
      ]
     },
     "execution_count": 88,
     "metadata": {},
     "output_type": "execute_result"
    }
   ],
   "source": [
    "fire.head()"
   ]
  },
  {
   "cell_type": "code",
   "execution_count": 89,
   "metadata": {},
   "outputs": [
    {
     "name": "stdout",
     "output_type": "stream",
     "text": [
      "<class 'pandas.core.frame.DataFrame'>\n",
      "RangeIndex: 214868 entries, 0 to 214867\n",
      "Data columns (total 14 columns):\n",
      " #   Column                 Non-Null Count   Dtype  \n",
      "---  ------                 --------------   -----  \n",
      " 0    Latitude              214868 non-null  float64\n",
      " 1    Longitude             214868 non-null  float64\n",
      " 2    COTotalColumn         214868 non-null  float64\n",
      " 3   COMixingRatio surface  214868 non-null  float64\n",
      " 4   COMixingRatio 900hPa   179518 non-null  float64\n",
      " 5   COMixingRatio 800hPa   188607 non-null  float64\n",
      " 6   COMixingRatio 700hPa   197725 non-null  float64\n",
      " 7   COMixingRatio 600hPa   214027 non-null  float64\n",
      " 8    COMixingRatio 500hPa  214868 non-null  float64\n",
      " 9   COMixingRatio 400hPa   214868 non-null  float64\n",
      " 10  COMixingRatio 300hPa   214868 non-null  float64\n",
      " 11  COMixingRatio 200hPa   214868 non-null  float64\n",
      " 12  COMixingRatio 100hPa   214868 non-null  float64\n",
      " 13  Temperature            214868 non-null  float64\n",
      "dtypes: float64(14)\n",
      "memory usage: 23.0 MB\n"
     ]
    }
   ],
   "source": [
    "fire.info()"
   ]
  },
  {
   "cell_type": "code",
   "execution_count": 90,
   "metadata": {},
   "outputs": [
    {
     "data": {
      "text/html": [
       "<div>\n",
       "<style scoped>\n",
       "    .dataframe tbody tr th:only-of-type {\n",
       "        vertical-align: middle;\n",
       "    }\n",
       "\n",
       "    .dataframe tbody tr th {\n",
       "        vertical-align: top;\n",
       "    }\n",
       "\n",
       "    .dataframe thead th {\n",
       "        text-align: right;\n",
       "    }\n",
       "</style>\n",
       "<table border=\"1\" class=\"dataframe\">\n",
       "  <thead>\n",
       "    <tr style=\"text-align: right;\">\n",
       "      <th></th>\n",
       "      <th>Latitude</th>\n",
       "      <th>Longitude</th>\n",
       "      <th>COTotalColumn</th>\n",
       "      <th>COMixingRatio surface</th>\n",
       "      <th>COMixingRatio 900hPa</th>\n",
       "      <th>COMixingRatio 800hPa</th>\n",
       "      <th>COMixingRatio 700hPa</th>\n",
       "      <th>COMixingRatio 600hPa</th>\n",
       "      <th>COMixingRatio 500hPa</th>\n",
       "      <th>COMixingRatio 400hPa</th>\n",
       "      <th>COMixingRatio 300hPa</th>\n",
       "      <th>COMixingRatio 200hPa</th>\n",
       "      <th>COMixingRatio 100hPa</th>\n",
       "      <th>Temperature</th>\n",
       "    </tr>\n",
       "  </thead>\n",
       "  <tbody>\n",
       "    <tr>\n",
       "      <th>count</th>\n",
       "      <td>214868.000000</td>\n",
       "      <td>214868.000000</td>\n",
       "      <td>2.148680e+05</td>\n",
       "      <td>214868.000000</td>\n",
       "      <td>179518.000000</td>\n",
       "      <td>188607.000000</td>\n",
       "      <td>197725.000000</td>\n",
       "      <td>214027.000000</td>\n",
       "      <td>214868.000000</td>\n",
       "      <td>214868.000000</td>\n",
       "      <td>214868.000000</td>\n",
       "      <td>214868.000000</td>\n",
       "      <td>214868.000000</td>\n",
       "      <td>214868.000000</td>\n",
       "    </tr>\n",
       "    <tr>\n",
       "      <th>mean</th>\n",
       "      <td>-2.670918</td>\n",
       "      <td>13.926136</td>\n",
       "      <td>1.518041e+18</td>\n",
       "      <td>101.285630</td>\n",
       "      <td>96.702860</td>\n",
       "      <td>89.508774</td>\n",
       "      <td>83.692415</td>\n",
       "      <td>76.558943</td>\n",
       "      <td>73.177397</td>\n",
       "      <td>73.531732</td>\n",
       "      <td>73.586831</td>\n",
       "      <td>61.807356</td>\n",
       "      <td>34.259115</td>\n",
       "      <td>281.336646</td>\n",
       "    </tr>\n",
       "    <tr>\n",
       "      <th>std</th>\n",
       "      <td>44.750644</td>\n",
       "      <td>102.821648</td>\n",
       "      <td>5.794889e+17</td>\n",
       "      <td>69.869174</td>\n",
       "      <td>50.871879</td>\n",
       "      <td>38.431443</td>\n",
       "      <td>32.798902</td>\n",
       "      <td>31.860346</td>\n",
       "      <td>28.077525</td>\n",
       "      <td>29.205367</td>\n",
       "      <td>28.401448</td>\n",
       "      <td>31.450767</td>\n",
       "      <td>15.471465</td>\n",
       "      <td>25.646615</td>\n",
       "    </tr>\n",
       "    <tr>\n",
       "      <th>min</th>\n",
       "      <td>-84.982600</td>\n",
       "      <td>-179.998000</td>\n",
       "      <td>1.950000e+17</td>\n",
       "      <td>17.786300</td>\n",
       "      <td>25.557100</td>\n",
       "      <td>21.293200</td>\n",
       "      <td>18.602200</td>\n",
       "      <td>13.907700</td>\n",
       "      <td>13.889800</td>\n",
       "      <td>13.040000</td>\n",
       "      <td>12.077800</td>\n",
       "      <td>9.193550</td>\n",
       "      <td>9.420420</td>\n",
       "      <td>195.511000</td>\n",
       "    </tr>\n",
       "    <tr>\n",
       "      <th>25%</th>\n",
       "      <td>-31.696625</td>\n",
       "      <td>-79.431250</td>\n",
       "      <td>1.170000e+18</td>\n",
       "      <td>52.703600</td>\n",
       "      <td>57.112550</td>\n",
       "      <td>60.191150</td>\n",
       "      <td>58.948800</td>\n",
       "      <td>55.912300</td>\n",
       "      <td>56.029250</td>\n",
       "      <td>58.304875</td>\n",
       "      <td>58.401425</td>\n",
       "      <td>40.625825</td>\n",
       "      <td>18.618400</td>\n",
       "      <td>259.203000</td>\n",
       "    </tr>\n",
       "    <tr>\n",
       "      <th>50%</th>\n",
       "      <td>-0.458235</td>\n",
       "      <td>27.977450</td>\n",
       "      <td>1.560000e+18</td>\n",
       "      <td>87.764500</td>\n",
       "      <td>88.025250</td>\n",
       "      <td>79.912100</td>\n",
       "      <td>77.217600</td>\n",
       "      <td>73.091900</td>\n",
       "      <td>71.874100</td>\n",
       "      <td>74.188150</td>\n",
       "      <td>75.175650</td>\n",
       "      <td>60.511000</td>\n",
       "      <td>34.552200</td>\n",
       "      <td>293.318000</td>\n",
       "    </tr>\n",
       "    <tr>\n",
       "      <th>75%</th>\n",
       "      <td>28.540350</td>\n",
       "      <td>99.425275</td>\n",
       "      <td>1.910000e+18</td>\n",
       "      <td>128.032000</td>\n",
       "      <td>123.952250</td>\n",
       "      <td>113.408000</td>\n",
       "      <td>105.404000</td>\n",
       "      <td>95.187650</td>\n",
       "      <td>89.511000</td>\n",
       "      <td>88.572500</td>\n",
       "      <td>87.061225</td>\n",
       "      <td>77.822600</td>\n",
       "      <td>47.859625</td>\n",
       "      <td>300.533000</td>\n",
       "    </tr>\n",
       "    <tr>\n",
       "      <th>max</th>\n",
       "      <td>84.783500</td>\n",
       "      <td>179.997000</td>\n",
       "      <td>7.190000e+18</td>\n",
       "      <td>2425.250000</td>\n",
       "      <td>2100.800000</td>\n",
       "      <td>1192.090000</td>\n",
       "      <td>710.467000</td>\n",
       "      <td>2065.610000</td>\n",
       "      <td>1222.940000</td>\n",
       "      <td>929.544000</td>\n",
       "      <td>692.958000</td>\n",
       "      <td>719.241000</td>\n",
       "      <td>129.150000</td>\n",
       "      <td>341.098000</td>\n",
       "    </tr>\n",
       "  </tbody>\n",
       "</table>\n",
       "</div>"
      ],
      "text/plain": [
       "            Latitude      Longitude   COTotalColumn  COMixingRatio surface  \\\n",
       "count  214868.000000  214868.000000    2.148680e+05          214868.000000   \n",
       "mean       -2.670918      13.926136    1.518041e+18             101.285630   \n",
       "std        44.750644     102.821648    5.794889e+17              69.869174   \n",
       "min       -84.982600    -179.998000    1.950000e+17              17.786300   \n",
       "25%       -31.696625     -79.431250    1.170000e+18              52.703600   \n",
       "50%        -0.458235      27.977450    1.560000e+18              87.764500   \n",
       "75%        28.540350      99.425275    1.910000e+18             128.032000   \n",
       "max        84.783500     179.997000    7.190000e+18            2425.250000   \n",
       "\n",
       "       COMixingRatio 900hPa  COMixingRatio 800hPa  COMixingRatio 700hPa  \\\n",
       "count         179518.000000         188607.000000         197725.000000   \n",
       "mean              96.702860             89.508774             83.692415   \n",
       "std               50.871879             38.431443             32.798902   \n",
       "min               25.557100             21.293200             18.602200   \n",
       "25%               57.112550             60.191150             58.948800   \n",
       "50%               88.025250             79.912100             77.217600   \n",
       "75%              123.952250            113.408000            105.404000   \n",
       "max             2100.800000           1192.090000            710.467000   \n",
       "\n",
       "       COMixingRatio 600hPa   COMixingRatio 500hPa  COMixingRatio 400hPa  \\\n",
       "count         214027.000000          214868.000000         214868.000000   \n",
       "mean              76.558943              73.177397             73.531732   \n",
       "std               31.860346              28.077525             29.205367   \n",
       "min               13.907700              13.889800             13.040000   \n",
       "25%               55.912300              56.029250             58.304875   \n",
       "50%               73.091900              71.874100             74.188150   \n",
       "75%               95.187650              89.511000             88.572500   \n",
       "max             2065.610000            1222.940000            929.544000   \n",
       "\n",
       "       COMixingRatio 300hPa  COMixingRatio 200hPa  COMixingRatio 100hPa  \\\n",
       "count         214868.000000         214868.000000         214868.000000   \n",
       "mean              73.586831             61.807356             34.259115   \n",
       "std               28.401448             31.450767             15.471465   \n",
       "min               12.077800              9.193550              9.420420   \n",
       "25%               58.401425             40.625825             18.618400   \n",
       "50%               75.175650             60.511000             34.552200   \n",
       "75%               87.061225             77.822600             47.859625   \n",
       "max              692.958000            719.241000            129.150000   \n",
       "\n",
       "        Temperature   \n",
       "count  214868.000000  \n",
       "mean      281.336646  \n",
       "std        25.646615  \n",
       "min       195.511000  \n",
       "25%       259.203000  \n",
       "50%       293.318000  \n",
       "75%       300.533000  \n",
       "max       341.098000  "
      ]
     },
     "execution_count": 90,
     "metadata": {},
     "output_type": "execute_result"
    }
   ],
   "source": [
    "fire.describe()"
   ]
  },
  {
   "cell_type": "code",
   "execution_count": 91,
   "metadata": {
    "scrolled": true
   },
   "outputs": [
    {
     "data": {
      "text/plain": [
       " Latitude                    0\n",
       " Longitude                   0\n",
       " COTotalColumn               0\n",
       "COMixingRatio surface        0\n",
       "COMixingRatio 900hPa     35350\n",
       "COMixingRatio 800hPa     26261\n",
       "COMixingRatio 700hPa     17143\n",
       "COMixingRatio 600hPa       841\n",
       " COMixingRatio 500hPa        0\n",
       "COMixingRatio 400hPa         0\n",
       "COMixingRatio 300hPa         0\n",
       "COMixingRatio 200hPa         0\n",
       "COMixingRatio 100hPa         0\n",
       "Temperature                  0\n",
       "dtype: int64"
      ]
     },
     "execution_count": 91,
     "metadata": {},
     "output_type": "execute_result"
    }
   ],
   "source": [
    "fire.isnull().sum()"
   ]
  },
  {
   "cell_type": "code",
   "execution_count": 80,
   "metadata": {},
   "outputs": [],
   "source": [
    "from sklearn.preprocessing import StandardScaler\n",
    "scalar=StandardScaler()"
   ]
  },
  {
   "cell_type": "code",
   "execution_count": 134,
   "metadata": {},
   "outputs": [],
   "source": [
    "fire.drop('COMixingRatio 900hPa',axis=1,inplace=True)"
   ]
  },
  {
   "cell_type": "code",
   "execution_count": 135,
   "metadata": {},
   "outputs": [],
   "source": [
    "fire.drop('COMixingRatio 800hPa',axis=1,inplace=True)"
   ]
  },
  {
   "cell_type": "code",
   "execution_count": 136,
   "metadata": {},
   "outputs": [],
   "source": [
    "fire.drop('COMixingRatio 700hPa',axis=1,inplace=True)"
   ]
  },
  {
   "cell_type": "code",
   "execution_count": 137,
   "metadata": {},
   "outputs": [],
   "source": [
    "fire.drop('COMixingRatio 600hPa',axis=1,inplace=True)"
   ]
  },
  {
   "cell_type": "code",
   "execution_count": 138,
   "metadata": {},
   "outputs": [],
   "source": [
    "fire.drop(' COMixingRatio 500hPa',axis=1,inplace=True)"
   ]
  },
  {
   "cell_type": "code",
   "execution_count": 139,
   "metadata": {},
   "outputs": [],
   "source": [
    "fire.drop('COMixingRatio 400hPa',axis=1,inplace=True)"
   ]
  },
  {
   "cell_type": "code",
   "execution_count": 142,
   "metadata": {},
   "outputs": [],
   "source": [
    "fire.drop('COMixingRatio 300hPa',axis=1,inplace=True)"
   ]
  },
  {
   "cell_type": "code",
   "execution_count": 143,
   "metadata": {},
   "outputs": [],
   "source": [
    "fire.drop('COMixingRatio 200hPa',axis=1,inplace=True)"
   ]
  },
  {
   "cell_type": "code",
   "execution_count": null,
   "metadata": {},
   "outputs": [],
   "source": [
    "fire.drop('COMixingRatio 100hPa',axis=1,inplace=True)"
   ]
  },
  {
   "cell_type": "code",
   "execution_count": 145,
   "metadata": {},
   "outputs": [
    {
     "data": {
      "text/html": [
       "<div>\n",
       "<style scoped>\n",
       "    .dataframe tbody tr th:only-of-type {\n",
       "        vertical-align: middle;\n",
       "    }\n",
       "\n",
       "    .dataframe tbody tr th {\n",
       "        vertical-align: top;\n",
       "    }\n",
       "\n",
       "    .dataframe thead th {\n",
       "        text-align: right;\n",
       "    }\n",
       "</style>\n",
       "<table border=\"1\" class=\"dataframe\">\n",
       "  <thead>\n",
       "    <tr style=\"text-align: right;\">\n",
       "      <th></th>\n",
       "      <th>Latitude</th>\n",
       "      <th>Longitude</th>\n",
       "      <th>COTotalColumn</th>\n",
       "      <th>COMixingRatio surface</th>\n",
       "      <th>Temperature</th>\n",
       "    </tr>\n",
       "  </thead>\n",
       "  <tbody>\n",
       "    <tr>\n",
       "      <th>0</th>\n",
       "      <td>9.03868</td>\n",
       "      <td>-20.8853</td>\n",
       "      <td>2.580000e+18</td>\n",
       "      <td>134.620</td>\n",
       "      <td>300.221</td>\n",
       "    </tr>\n",
       "    <tr>\n",
       "      <th>1</th>\n",
       "      <td>8.81834</td>\n",
       "      <td>-20.8535</td>\n",
       "      <td>2.650000e+18</td>\n",
       "      <td>139.292</td>\n",
       "      <td>300.686</td>\n",
       "    </tr>\n",
       "    <tr>\n",
       "      <th>2</th>\n",
       "      <td>8.59805</td>\n",
       "      <td>-20.8216</td>\n",
       "      <td>2.750000e+18</td>\n",
       "      <td>158.140</td>\n",
       "      <td>300.940</td>\n",
       "    </tr>\n",
       "    <tr>\n",
       "      <th>3</th>\n",
       "      <td>8.37733</td>\n",
       "      <td>-20.7898</td>\n",
       "      <td>2.720000e+18</td>\n",
       "      <td>148.004</td>\n",
       "      <td>301.036</td>\n",
       "    </tr>\n",
       "    <tr>\n",
       "      <th>4</th>\n",
       "      <td>8.99296</td>\n",
       "      <td>-21.3651</td>\n",
       "      <td>2.510000e+18</td>\n",
       "      <td>134.441</td>\n",
       "      <td>300.325</td>\n",
       "    </tr>\n",
       "  </tbody>\n",
       "</table>\n",
       "</div>"
      ],
      "text/plain": [
       "    Latitude   Longitude   COTotalColumn  COMixingRatio surface  Temperature \n",
       "0    9.03868    -20.8853    2.580000e+18                134.620       300.221\n",
       "1    8.81834    -20.8535    2.650000e+18                139.292       300.686\n",
       "2    8.59805    -20.8216    2.750000e+18                158.140       300.940\n",
       "3    8.37733    -20.7898    2.720000e+18                148.004       301.036\n",
       "4    8.99296    -21.3651    2.510000e+18                134.441       300.325"
      ]
     },
     "execution_count": 145,
     "metadata": {},
     "output_type": "execute_result"
    }
   ],
   "source": [
    "fire.head()"
   ]
  },
  {
   "cell_type": "code",
   "execution_count": 176,
   "metadata": {},
   "outputs": [],
   "source": [
    "y=fire.iloc[:,2:].values"
   ]
  },
  {
   "cell_type": "code",
   "execution_count": 177,
   "metadata": {},
   "outputs": [
    {
     "data": {
      "text/plain": [
       "array([[2.58000e+18, 1.34620e+02, 3.00221e+02],\n",
       "       [2.65000e+18, 1.39292e+02, 3.00686e+02],\n",
       "       [2.75000e+18, 1.58140e+02, 3.00940e+02],\n",
       "       ...,\n",
       "       [2.03000e+18, 8.45694e+01, 3.29450e+02],\n",
       "       [1.79000e+18, 8.49521e+01, 3.28098e+02],\n",
       "       [1.66000e+18, 1.82100e+02, 3.33050e+02]])"
      ]
     },
     "execution_count": 177,
     "metadata": {},
     "output_type": "execute_result"
    }
   ],
   "source": [
    "y"
   ]
  },
  {
   "cell_type": "code",
   "execution_count": 178,
   "metadata": {},
   "outputs": [],
   "source": [
    "temp=preprocessing.StandardScaler().fit(y).transform(y)"
   ]
  },
  {
   "cell_type": "code",
   "execution_count": 179,
   "metadata": {},
   "outputs": [
    {
     "data": {
      "text/plain": [
       "(214868, 3)"
      ]
     },
     "execution_count": 179,
     "metadata": {},
     "output_type": "execute_result"
    }
   ],
   "source": [
    "temp.shape"
   ]
  },
  {
   "cell_type": "code",
   "execution_count": 180,
   "metadata": {},
   "outputs": [
    {
     "data": {
      "text/plain": [
       "array([[ 1.83258262,  0.47709806,  0.73633102],\n",
       "       [ 1.953379  ,  0.54396604,  0.75446211],\n",
       "       [ 2.12594525,  0.81372798,  0.76436597],\n",
       "       ...,\n",
       "       [ 0.88346821, -0.23925099,  1.87601623],\n",
       "       [ 0.4693092 , -0.2337736 ,  1.8232996 ],\n",
       "       [ 0.24497307,  1.1566554 ,  2.01638596]])"
      ]
     },
     "execution_count": 180,
     "metadata": {},
     "output_type": "execute_result"
    }
   ],
   "source": [
    "temp"
   ]
  },
  {
   "cell_type": "code",
   "execution_count": 182,
   "metadata": {},
   "outputs": [],
   "source": [
    "fire1=pd.DataFrame(temp,columns=['COTotalColumn','COMixingRatio surface','Temperature'])"
   ]
  },
  {
   "cell_type": "code",
   "execution_count": 187,
   "metadata": {},
   "outputs": [],
   "source": [
    "y1=fire.iloc[:,:2].values"
   ]
  },
  {
   "cell_type": "code",
   "execution_count": 188,
   "metadata": {},
   "outputs": [],
   "source": [
    "fire2=pd.DataFrame(y1,columns=['Latitude','Longitude'])"
   ]
  },
  {
   "cell_type": "code",
   "execution_count": 193,
   "metadata": {},
   "outputs": [],
   "source": [
    "fire_Hazard=pd.concat([fire2,fire1],axis=1)"
   ]
  },
  {
   "cell_type": "code",
   "execution_count": 195,
   "metadata": {},
   "outputs": [
    {
     "data": {
      "text/html": [
       "<div>\n",
       "<style scoped>\n",
       "    .dataframe tbody tr th:only-of-type {\n",
       "        vertical-align: middle;\n",
       "    }\n",
       "\n",
       "    .dataframe tbody tr th {\n",
       "        vertical-align: top;\n",
       "    }\n",
       "\n",
       "    .dataframe thead th {\n",
       "        text-align: right;\n",
       "    }\n",
       "</style>\n",
       "<table border=\"1\" class=\"dataframe\">\n",
       "  <thead>\n",
       "    <tr style=\"text-align: right;\">\n",
       "      <th></th>\n",
       "      <th>Latitude</th>\n",
       "      <th>Longitude</th>\n",
       "      <th>COTotalColumn</th>\n",
       "      <th>COMixingRatio surface</th>\n",
       "      <th>Temperature</th>\n",
       "    </tr>\n",
       "  </thead>\n",
       "  <tbody>\n",
       "    <tr>\n",
       "      <th>0</th>\n",
       "      <td>9.03868</td>\n",
       "      <td>-20.8853</td>\n",
       "      <td>1.832583</td>\n",
       "      <td>0.477098</td>\n",
       "      <td>0.736331</td>\n",
       "    </tr>\n",
       "    <tr>\n",
       "      <th>1</th>\n",
       "      <td>8.81834</td>\n",
       "      <td>-20.8535</td>\n",
       "      <td>1.953379</td>\n",
       "      <td>0.543966</td>\n",
       "      <td>0.754462</td>\n",
       "    </tr>\n",
       "    <tr>\n",
       "      <th>2</th>\n",
       "      <td>8.59805</td>\n",
       "      <td>-20.8216</td>\n",
       "      <td>2.125945</td>\n",
       "      <td>0.813728</td>\n",
       "      <td>0.764366</td>\n",
       "    </tr>\n",
       "    <tr>\n",
       "      <th>3</th>\n",
       "      <td>8.37733</td>\n",
       "      <td>-20.7898</td>\n",
       "      <td>2.074175</td>\n",
       "      <td>0.668657</td>\n",
       "      <td>0.768109</td>\n",
       "    </tr>\n",
       "    <tr>\n",
       "      <th>4</th>\n",
       "      <td>8.99296</td>\n",
       "      <td>-21.3651</td>\n",
       "      <td>1.711786</td>\n",
       "      <td>0.474536</td>\n",
       "      <td>0.740386</td>\n",
       "    </tr>\n",
       "    <tr>\n",
       "      <th>...</th>\n",
       "      <td>...</td>\n",
       "      <td>...</td>\n",
       "      <td>...</td>\n",
       "      <td>...</td>\n",
       "      <td>...</td>\n",
       "    </tr>\n",
       "    <tr>\n",
       "      <th>214863</th>\n",
       "      <td>-29.79870</td>\n",
       "      <td>150.4480</td>\n",
       "      <td>0.486566</td>\n",
       "      <td>-0.066316</td>\n",
       "      <td>1.759587</td>\n",
       "    </tr>\n",
       "    <tr>\n",
       "      <th>214864</th>\n",
       "      <td>-29.58910</td>\n",
       "      <td>150.4920</td>\n",
       "      <td>0.400283</td>\n",
       "      <td>0.051802</td>\n",
       "      <td>1.826575</td>\n",
       "    </tr>\n",
       "    <tr>\n",
       "      <th>214865</th>\n",
       "      <td>-29.37920</td>\n",
       "      <td>150.5360</td>\n",
       "      <td>0.883468</td>\n",
       "      <td>-0.239251</td>\n",
       "      <td>1.876016</td>\n",
       "    </tr>\n",
       "    <tr>\n",
       "      <th>214866</th>\n",
       "      <td>-30.11010</td>\n",
       "      <td>150.8890</td>\n",
       "      <td>0.469309</td>\n",
       "      <td>-0.233774</td>\n",
       "      <td>1.823300</td>\n",
       "    </tr>\n",
       "    <tr>\n",
       "      <th>214867</th>\n",
       "      <td>-29.69860</td>\n",
       "      <td>150.9740</td>\n",
       "      <td>0.244973</td>\n",
       "      <td>1.156655</td>\n",
       "      <td>2.016386</td>\n",
       "    </tr>\n",
       "  </tbody>\n",
       "</table>\n",
       "<p>214868 rows × 5 columns</p>\n",
       "</div>"
      ],
      "text/plain": [
       "        Latitude  Longitude  COTotalColumn  COMixingRatio surface  Temperature\n",
       "0        9.03868   -20.8853       1.832583               0.477098     0.736331\n",
       "1        8.81834   -20.8535       1.953379               0.543966     0.754462\n",
       "2        8.59805   -20.8216       2.125945               0.813728     0.764366\n",
       "3        8.37733   -20.7898       2.074175               0.668657     0.768109\n",
       "4        8.99296   -21.3651       1.711786               0.474536     0.740386\n",
       "...          ...        ...            ...                    ...          ...\n",
       "214863 -29.79870   150.4480       0.486566              -0.066316     1.759587\n",
       "214864 -29.58910   150.4920       0.400283               0.051802     1.826575\n",
       "214865 -29.37920   150.5360       0.883468              -0.239251     1.876016\n",
       "214866 -30.11010   150.8890       0.469309              -0.233774     1.823300\n",
       "214867 -29.69860   150.9740       0.244973               1.156655     2.016386\n",
       "\n",
       "[214868 rows x 5 columns]"
      ]
     },
     "execution_count": 195,
     "metadata": {},
     "output_type": "execute_result"
    }
   ],
   "source": [
    "fire_Hazard"
   ]
  },
  {
   "cell_type": "code",
   "execution_count": null,
   "metadata": {},
   "outputs": [],
   "source": []
  }
 ],
 "metadata": {
  "kernelspec": {
   "display_name": "Python 3",
   "language": "python",
   "name": "python3"
  },
  "language_info": {
   "codemirror_mode": {
    "name": "ipython",
    "version": 3
   },
   "file_extension": ".py",
   "mimetype": "text/x-python",
   "name": "python",
   "nbconvert_exporter": "python",
   "pygments_lexer": "ipython3",
   "version": "3.7.0"
  }
 },
 "nbformat": 4,
 "nbformat_minor": 2
}
